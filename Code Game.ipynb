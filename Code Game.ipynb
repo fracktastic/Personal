{
 "cells": [
  {
   "cell_type": "markdown",
   "metadata": {},
   "source": [
    "# MOM's Codebreaking Game\n",
    "                                              \n",
    "                                              \n",
    "                                              \n",
    "                                              "
   ]
  },
  {
   "cell_type": "code",
   "execution_count": 3,
   "metadata": {},
   "outputs": [],
   "source": [
    "import os"
   ]
  },
  {
   "cell_type": "code",
   "execution_count": 4,
   "metadata": {},
   "outputs": [],
   "source": [
    "os.chdir(\"C:/Users/shock/Desktop/letters\")"
   ]
  },
  {
   "cell_type": "code",
   "execution_count": 5,
   "metadata": {},
   "outputs": [],
   "source": [
    "from PIL import Image as img"
   ]
  },
  {
   "cell_type": "code",
   "execution_count": 6,
   "metadata": {},
   "outputs": [],
   "source": [
    "space = img.new(mode='L',size=(100,100), color='white')\n",
    "\n",
    "zero = img.open(\"0.gif\")\n",
    "one = img.open(\"1.gif\")\n",
    "two = img.open(\"2.gif\")\n",
    "three = img.open(\"3.gif\")\n",
    "four = img.open(\"4.gif\")\n",
    "five = img.open(\"5.gif\")\n",
    "six = img.open(\"6.gif\")\n",
    "seven = img.open(\"7.gif\")\n",
    "eight = img.open(\"8.gif\")\n",
    "nine = img.open(\"9.gif\")\n",
    "\n",
    "a = img.open(\"A.gif\")\n",
    "b = img.open('B.gif')\n",
    "c = img.open('C.gif')\n",
    "d = img.open('D.gif')\n",
    "e = img.open('E.gif')\n",
    "f = img.open('F.gif')\n",
    "g = img.open('G.gif')\n",
    "h = img.open('H.gif')\n",
    "i = img.open('I.gif')\n",
    "j = img.open('J.gif')\n",
    "k = img.open('K.gif')\n",
    "l = img.open('L.gif')\n",
    "m = img.open('M.gif')\n",
    "n = img.open('N.gif')\n",
    "o = img.open('O.gif')\n",
    "p = img.open('P.gif')\n",
    "q = img.open('Q.gif')\n",
    "r = img.open('R.gif')\n",
    "s = img.open('S.gif')\n",
    "t = img.open('T.gif')\n",
    "u = img.open('U.gif')\n",
    "v = img.open('V.gif')\n",
    "w = img.open('W.gif')\n",
    "x = img.open('X.gif')\n",
    "y = img.open('Y.gif')\n",
    "z = img.open('Z.gif')"
   ]
  },
  {
   "cell_type": "code",
   "execution_count": 7,
   "metadata": {},
   "outputs": [],
   "source": [
    "dicts = {}\n",
    "keys = [' ','0','1','2','3','4','5','6','7','8','9','a', 'b', 'c', 'd', 'e', 'f', 'g','h','i','j','k','l','m','n','o','p','q','r','s','t','u','v','w','x','y','z']\n",
    "values = [space,zero,one,two,three,four,five,six,seven,eight,nine,a,b,c,d,e,f,g,h,i,j,k,l,m,n,o,p,q,r,s,t,u,v,w,x,y,z]"
   ]
  },
  {
   "cell_type": "code",
   "execution_count": 8,
   "metadata": {},
   "outputs": [
    {
     "data": {
      "text/plain": [
       "(200, 200)"
      ]
     },
     "execution_count": 8,
     "metadata": {},
     "output_type": "execute_result"
    }
   ],
   "source": [
    "n = 0\n",
    "for im in values:\n",
    "    values[n] = im.resize((round(200*im.size[0]/im.size[1]),200))\n",
    "    n+=1\n",
    "values[0].size"
   ]
  },
  {
   "cell_type": "code",
   "execution_count": 9,
   "metadata": {},
   "outputs": [],
   "source": [
    "n = 0\n",
    "for i in keys:\n",
    "    dicts[i] = values[n]\n",
    "    n+=1"
   ]
  },
  {
   "cell_type": "markdown",
   "metadata": {},
   "source": [
    "## Taking Input"
   ]
  },
  {
   "cell_type": "code",
   "execution_count": 79,
   "metadata": {},
   "outputs": [
    {
     "name": "stdin",
     "output_type": "stream",
     "text": [
      "Enter Text <must be lower-case, no symbols>:  natalie jennifer wiley pennywicket\n"
     ]
    }
   ],
   "source": [
    "ipt = list(input('Enter Text <must be lower-case, no symbols>: '))"
   ]
  },
  {
   "cell_type": "code",
   "execution_count": 80,
   "metadata": {},
   "outputs": [],
   "source": [
    "opt = [dicts[n] for n in ipt]\n",
    "\n",
    "lnth = 0\n",
    "for x in opt:\n",
    "    lnth += x.size[1]"
   ]
  },
  {
   "cell_type": "code",
   "execution_count": 81,
   "metadata": {},
   "outputs": [],
   "source": [
    "new = img.new(mode='L',size=(2300,3000), color='white')\n",
    "row = 0 #y position\n",
    "col = 0 #x position\n",
    "\n",
    "for x in opt:\n",
    "    if col + x.size[0] < new.size[0]:\n",
    "        new.paste(x,box = (col,row))\n",
    "        col += x.size[0]\n",
    "    else:\n",
    "        col = 0\n",
    "        row += 300\n",
    "        new.paste(x,box = (col,row))\n",
    "        col += x.size[0]\n",
    "new.show()"
   ]
  },
  {
   "cell_type": "code",
   "execution_count": null,
   "metadata": {
    "jupyter": {
     "source_hidden": true
    }
   },
   "outputs": [],
   "source": [
    "if 0==0: \n",
    "    end"
   ]
  },
  {
   "cell_type": "code",
   "execution_count": null,
   "metadata": {
    "jupyter": {
     "source_hidden": true
    }
   },
   "outputs": [],
   "source": [
    "zero.size"
   ]
  },
  {
   "cell_type": "markdown",
   "metadata": {},
   "source": []
  },
  {
   "cell_type": "code",
   "execution_count": null,
   "metadata": {
    "jupyter": {
     "source_hidden": true
    }
   },
   "outputs": [],
   "source": [
    "round(zero.size[0]/zero.size[1])"
   ]
  },
  {
   "cell_type": "code",
   "execution_count": null,
   "metadata": {
    "jupyter": {
     "source_hidden": true
    }
   },
   "outputs": [],
   "source": [
    "values[31]"
   ]
  },
  {
   "cell_type": "code",
   "execution_count": null,
   "metadata": {
    "jupyter": {
     "source_hidden": true
    }
   },
   "outputs": [],
   "source": [
    "space"
   ]
  },
  {
   "cell_type": "code",
   "execution_count": null,
   "metadata": {},
   "outputs": [],
   "source": []
  },
  {
   "cell_type": "code",
   "execution_count": null,
   "metadata": {},
   "outputs": [],
   "source": []
  }
 ],
 "metadata": {
  "kernelspec": {
   "display_name": "Python 3",
   "language": "python",
   "name": "python3"
  },
  "language_info": {
   "codemirror_mode": {
    "name": "ipython",
    "version": 3
   },
   "file_extension": ".py",
   "mimetype": "text/x-python",
   "name": "python",
   "nbconvert_exporter": "python",
   "pygments_lexer": "ipython3",
   "version": "3.7.4"
  }
 },
 "nbformat": 4,
 "nbformat_minor": 4
}
